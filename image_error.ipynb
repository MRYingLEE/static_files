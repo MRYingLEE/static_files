{
  "metadata": {
    "kernelspec": {
      "name": "xjavascript",
      "display_name": "JavaScript (xjavascript)",
      "language": "javascript"
    },
    "language_info": {
      "codemirror_mode": "",
      "file_extension": "js",
      "mimetype": "text/x-javascript",
      "name": "javascript",
      "nbconvert_exporter": "",
      "pygments_lexer": "",
      "version": "ES6"
    }
  },
  "nbformat_minor": 4,
  "nbformat": 4,
  "cells": [
    {
      "cell_type": "code",
      "source": "const {default: OpenAI} = await import('https://cdn.jsdelivr.net/npm/openai/+esm');",
      "metadata": {
        "trusted": true
      },
      "outputs": [
        {
          "execution_count": 16,
          "output_type": "execute_result",
          "data": {},
          "metadata": {}
        }
      ],
      "execution_count": 16
    },
    {
      "cell_type": "code",
      "source": "const openai_api_key = 'sk-1234567890'; // fake for testing\nconst openai_api_base_delta='https://agi.helloway.workers.dev/v1'; //for delta mode testing\nconst openai_api_base_snapshot='https://snapshot.helloway.workers.dev/v1'; // for snapshot mode testing",
      "metadata": {
        "trusted": true
      },
      "outputs": [
        {
          "execution_count": 17,
          "output_type": "execute_result",
          "data": {},
          "metadata": {}
        }
      ],
      "execution_count": 17
    },
    {
      "cell_type": "code",
      "source": "const openai = new OpenAI.OpenAI({\n    // model: \"gpt-3.5-turbo\",\n    baseURL:openai_api_base_delta,\n      apiKey: openai_api_key,\n  // baseURL:  `${openai_api_base}/openai/deployments/${deployment_name}`, \n  // defaultQuery: { 'api-version': openai_api_version },\n  // defaultHeaders: { 'api-key': openai_api_key },\n});",
      "metadata": {
        "trusted": true
      },
      "outputs": [
        {
          "execution_count": 18,
          "output_type": "execute_result",
          "data": {},
          "metadata": {}
        }
      ],
      "execution_count": 18
    },
    {
      "cell_type": "code",
      "source": "const responsePromise = openai.images.generate({ prompt: 'A cute baby sea otter' });\nconst dataAndResponse = await responsePromise.withResponse();",
      "metadata": {
        "trusted": true
      },
      "outputs": [
        {
          "ename": "Error",
          "evalue": "400 Unsupported data type\n",
          "traceback": [
            "Error: 400 Unsupported data type\n\n    at kt.generate (https://cdn.jsdelivr.net/npm/openai/+esm:7:24810)\n    at Se.makeStatusError (https://cdn.jsdelivr.net/npm/openai/+esm:7:35261)\n    at Se.makeRequest (https://cdn.jsdelivr.net/npm/openai/+esm:7:36184)"
          ],
          "output_type": "error"
        }
      ],
      "execution_count": 19
    },
    {
      "cell_type": "code",
      "source": "const response = await openai.images.generate({\n      prompt: 'A cute baby sea otter',\n      model: 'dall-e-3',\n      n: 1,\n      quality: 'standard',\n      response_format: 'url',\n      size: '1024x1024',\n      style: 'vivid',\n      user: 'user-1234',\n    });",
      "metadata": {
        "trusted": true
      },
      "outputs": [
        {
          "ename": "Error",
          "evalue": "400 Unsupported data type\n",
          "traceback": [
            "Error: 400 Unsupported data type\n\n    at kt.generate (https://cdn.jsdelivr.net/npm/openai/+esm:7:24810)\n    at Se.makeStatusError (https://cdn.jsdelivr.net/npm/openai/+esm:7:35261)\n    at Se.makeRequest (https://cdn.jsdelivr.net/npm/openai/+esm:7:36184)"
          ],
          "output_type": "error"
        }
      ],
      "execution_count": 20
    },
    {
      "cell_type": "code",
      "source": "",
      "metadata": {
        "trusted": true
      },
      "outputs": [],
      "execution_count": null
    }
  ]
}